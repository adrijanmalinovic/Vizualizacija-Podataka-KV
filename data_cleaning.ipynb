{
  "nbformat": 4,
  "nbformat_minor": 0,
  "metadata": {
    "colab": {
      "provenance": []
    },
    "kernelspec": {
      "name": "python3",
      "display_name": "Python 3"
    },
    "language_info": {
      "name": "python"
    }
  },
  "cells": [
    {
      "cell_type": "code",
      "execution_count": 23,
      "metadata": {
        "id": "QnR4YoyMmGXD"
      },
      "outputs": [],
      "source": [
        "import json\n",
        "\n",
        "# Load JSON data\n",
        "with open('movies_raw.json', 'r') as file:\n",
        "    movies_data = json.load(file)\n",
        "\n",
        "# Define fields to drop\n",
        "fields_to_drop = [\"id\", \"certificate\", \"cast_id\", \"director_id\", \"writter_id\"]\n",
        "\n",
        "\n",
        "for movie in movies_data:\n",
        "    # Remove unwanted fields\n",
        "    for field in fields_to_drop:\n",
        "        del movie[field]\n",
        "\n",
        "    # Rename keys\n",
        "    movie[\"title\"] = movie[\"name\"]\n",
        "    del movie[\"name\"]\n",
        "\n",
        "    movie[\"votes\"] = movie[\"imbd_votes\"]\n",
        "    del movie[\"imbd_votes\"]\n",
        "\n",
        "    movie[\"rating\"] = movie[\"imdb_rating\"]\n",
        "    del movie[\"imdb_rating\"]\n",
        "\n",
        "    movie[\"image\"] = movie[\"img_link\"]\n",
        "    del movie[\"img_link\"]\n",
        "\n",
        "    # Rename key and split genres by comma and convert them to a list of strings\n",
        "    genres_list = movie[\"genre\"].split(',')\n",
        "    movie[\"genres\"] = genres_list\n",
        "    del movie[\"genre\"]\n",
        "\n",
        "    # Rename key and split cast names by comma and convert them to a list of strings\n",
        "    cast_list = movie[\"cast_name\"].split(',')\n",
        "    movie[\"actors\"] = cast_list\n",
        "    del movie[\"cast_name\"]\n",
        "\n",
        "    # Rename key and split director names by comma and convert them to a list of strings\n",
        "    director_list = movie[\"director_name\"].split(',')\n",
        "    movie[\"directors\"] = director_list\n",
        "    del movie[\"director_name\"]\n",
        "\n",
        "    # Rename key and split writer names by comma and convert them to a list of strings\n",
        "    writter_list = movie[\"writter_name\"].split(',')\n",
        "    movie[\"writers\"] = writter_list\n",
        "    del movie[\"writter_name\"]\n",
        "\n",
        "# Save cleaned data\n",
        "with open('movies.json', 'w') as file:\n",
        "    json.dump(movies_data, file, indent=4)\n"
      ]
    }
  ]
}